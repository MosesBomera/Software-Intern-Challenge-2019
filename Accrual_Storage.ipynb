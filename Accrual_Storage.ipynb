{
 "cells": [
  {
   "cell_type": "code",
   "execution_count": 1,
   "metadata": {},
   "outputs": [],
   "source": [
    "# Points Accrual and Storage System\n",
    "# Make code python 2 and 3 compliant\n",
    "from __future__ import print_function\n",
    "\n",
    "import datetime\n",
    "import pandas as pd\n",
    "\n",
    "# Make things look pretty\n",
    "from pprint import pprint\n",
    "import sqlite3"
   ]
  },
  {
   "cell_type": "code",
   "execution_count": 2,
   "metadata": {},
   "outputs": [],
   "source": [
    "class Db(object):    \n",
    "    \"\"\"The database class.\"\"\"\n",
    "\n",
    "    def __init__(self, database='fenix.db', statements=[]):\n",
    "        \"\"\"Initialize a new database or connect to an existing one.\"\"\"\n",
    "\n",
    "        self.database = database  #the database filename\n",
    "        self.statement = ''       #holds incomplete statements\n",
    "        \n",
    "        self.connect()\n",
    "        self.execute(statements)\n",
    "        self.close()            \n",
    "\n",
    "    def connect(self):\n",
    "        \"\"\"Connect to the database.\"\"\"\n",
    "\n",
    "        self.connection = sqlite3.connect(self.database)\n",
    "        self.cursor = self.connection.cursor()\n",
    "        self.connected = True\n",
    "        self.statement = ''\n",
    "\n",
    "    def close(self): \n",
    "        \"\"\"Close the database.\"\"\"\n",
    "\n",
    "        self.connection.commit()\n",
    "        self.connection.close()\n",
    "        self.connected = False\n",
    "\n",
    "    def incomplete(self, statement):\n",
    "        \"\"\"Concatenate clauses until a complete statement is made.\"\"\"\n",
    "\n",
    "        self.statement += statement\n",
    "        if self.statement.count(';') > 1:\n",
    "            self.statement = ''\n",
    "            raise ValueError('One statement at a time, please!.')\n",
    "            \n",
    "        return not sqlite3.complete_statement(self.statement)\n",
    "    \n",
    "    def execute(self, statements):\n",
    "        \"\"\"Executes SQL statements. \"\"\"\n",
    "\n",
    "        queries = []\n",
    "        close = False\n",
    "        if not self.connected:                  \n",
    "            self.connect() \n",
    "            close = True\n",
    "        if type(statements) == str:\n",
    "            statements = [statements]\n",
    "        for statement in statements:\n",
    "            if self.incomplete(statement):\n",
    "                continue #the statement is complete\n",
    "            try:\n",
    "                statement = self.statement.strip() #reset the test statement\n",
    "                self.statement = ''\n",
    "                self.cursor.execute(statement) # Execute statement\n",
    "                data = self.cursor.fetchall()\n",
    "                if statement.upper().startswith('SELECT'):\n",
    "                    queries.append(data)\n",
    "\n",
    "            except sqlite3.Error as error:\n",
    "                raise ValueError('An error occurred:', error.args[0])\n",
    "\n",
    "        if close:\n",
    "            self.close()   #Close database if opened here.\n",
    "        \n",
    "        if queries:\n",
    "            return queries\n",
    "        \n",
    "        \n",
    "    def from_csv(self,table,filename):\n",
    "        \"\"\"Imports data from a csv file to a selected table.\"\"\"\n",
    "        \n",
    "        if not self.connected:                  \n",
    "            self.connect() \n",
    "            close = True\n",
    "            \n",
    "        data = pd.read_csv(filename)\n",
    "        data.to_sql(table,self.connection,if_exists='append',index=False)\n",
    "        \n",
    "        if close:\n",
    "            self.close() "
   ]
  },
  {
   "cell_type": "code",
   "execution_count": 3,
   "metadata": {},
   "outputs": [],
   "source": [
    "class Employee(object):\n",
    "    \"\"\"Defines an employee's required attributes.\"\"\"\n",
    "    \n",
    "    def __init__(self, ID):\n",
    "        \"\"\"\n",
    "            Create an instance of an employee.\n",
    "            \n",
    "            Arguments\n",
    "            id - <int> - This is the employee's ID.\n",
    "        \"\"\"\n",
    "        self.id = ID\n",
    "        \n",
    "    def get_id(self):\n",
    "        return self.id\n",
    "    \n",
    "    def get_attribute(self,attribute):\n",
    "        \"\"\"Returns the selected attributed value.\"\"\"\n",
    "                  \n",
    "        statement = ['SELECT {} FROM employees WHERE emp_id={};'.format(attribute, self.get_id())]\n",
    "        attribute = db.execute(statement)[0][0][0] # What?!\n",
    "        return attribute\n",
    "    \n",
    "    \n",
    "    def request(self,amount,signoff=False):\n",
    "        \"\"\"Allows an employee to request points withdrawal.\"\"\"\n",
    "        \n",
    "        # Check points balance\n",
    "        statement = ['SELECT points FROM employees WHERE emp_id={};'.format(self.get_id())]\n",
    "        points_balance = db.execute(statement)[0][0][0]\n",
    "        \n",
    "        if (points_balance > amount):\n",
    "            if signoff:\n",
    "                # Send expenses request to finance\n",
    "                statement = ['INSERT INTO requests (emp_id,withdrawal) VALUES ({},{});'.format(self.get_id(),amount)]\n",
    "                db.execute(statement)\n",
    "                req_id = db.execute(['SELECT req_id FROM requests WHERE emp_id={} and withdrawal={} and status=0;'.format(self.get_id(),amount)])\n",
    "                return req_id[0][0][0]\n",
    "            else:\n",
    "                print('Manager sign off required.')\n",
    "        else:\n",
    "            raise ValueError('Insufficient Points.')"
   ]
  },
  {
   "cell_type": "code",
   "execution_count": 4,
   "metadata": {},
   "outputs": [],
   "source": [
    "class Accrual(object):\n",
    "    \"\"\"This class performs the points accrual and tracking.\"\"\"\n",
    "    \n",
    "    def __init__(self):\n",
    "        self.today = f\"{datetime.date.today():%Y/%m/%d}\"\n",
    "        \n",
    "        \n",
    "    def points_multiplier(self,points,tenure):\n",
    "        \"\"\"Multiples the points as per the tenure\"\"\"\n",
    "        if (tenure > 0):\n",
    "            if   (0.0 < tenure < 2.0):\n",
    "                points *= 1.0\n",
    "            elif (2.0 <= tenure < 4.0):\n",
    "                points *= 1.25\n",
    "            else:\n",
    "                points *= 1.5\n",
    "        return points\n",
    "            \n",
    "    def seniority_points(self, seniority):\n",
    "        \"\"\"Returns the number of points per month given the seniority.\"\"\"\n",
    "        \n",
    "        points =  None\n",
    "        \n",
    "        if seniority   == 'A':\n",
    "            points=5\n",
    "        elif seniority == 'B':\n",
    "            points=10\n",
    "        elif seniority == 'C':\n",
    "            points=15\n",
    "        elif seniority == 'D':\n",
    "            points=20\n",
    "        elif seniority == 'E':\n",
    "            points=25\n",
    "        else:\n",
    "            points = 0\n",
    "            \n",
    "        return points\n",
    "    \n",
    "    def time_difference(self,start_date,end_date,flag=False):\n",
    "        \"\"\"\n",
    "            Returns the number of months\n",
    "            \n",
    "            Arguments\n",
    "            start_date - <string> - The date of reference at the start of the calculation period.\n",
    "            end_date - <string> - The date of reference at the end of the calculation period\n",
    "            \n",
    "            flag - <bool> - if false, return number of months (tenure),\n",
    "                            if true return number of firsts (first of each month)\n",
    "        \"\"\"\n",
    "        \n",
    "        start_date = datetime.datetime.strptime(str(start_date), '%Y/%m/%d')\n",
    "        end_date = datetime.datetime.strptime(str(end_date), '%Y/%m/%d')\n",
    "        months = (end_date.year - start_date.year) * 12 + (end_date.month - start_date.month)\n",
    "        \n",
    "        # How many firsts?\n",
    "        if flag:\n",
    "            if start_date.day == 1 & end_date.day > 1:\n",
    "                months +=1\n",
    "            elif start_date.day > 1 & end_date.day == 1:\n",
    "                months -=1\n",
    "            return months\n",
    "        else:    \n",
    "            return months\n",
    "        \n",
    "    def points_accrual(self,ID):\n",
    "        \"\"\"\n",
    "            Calculates the number of points for a given employee as per today.\n",
    "            \n",
    "            Arguments\n",
    "            id - <int> - The employee id\n",
    "        \"\"\"\n",
    "        \n",
    "        statement = ['SELECT start_date FROM history where emp_id={};'.format(ID)]\n",
    "        results = db.execute(statement)[0]\n",
    "        \n",
    "        dates = []      # Unpack dates.\n",
    "        for date in results:\n",
    "            dates.append(date[0])\n",
    "            \n",
    "        dates.sort(key=lambda date: datetime.datetime.strptime(date,'%Y/%m/%d'))\n",
    "        \n",
    "        n = 0;\n",
    "        points = [];\n",
    "        \n",
    "        while(n < (len(dates)-1)):\n",
    "            \n",
    "            months = self.time_difference(dates[n],dates[n+1],True)\n",
    "            tenure1 = self.time_difference(dates[0],dates[n+1]) # Tenure as of dates[n+1]\n",
    "            temp = self.calculator_helper(dates[n],ID, months,tenure1)\n",
    "            points.append(temp)\n",
    "            n = n+1\n",
    "            \n",
    "        # Points up to today.\n",
    "        months = self.time_difference(dates[-1],self.today)\n",
    "        tenure2 = self.time_difference(dates[0],self.today) # Tenure as of  today\n",
    "        temp = self.calculator_helper(dates[-1],ID,months,tenure2)\n",
    "        points.append(temp)\n",
    "        \n",
    "        points = sum(points) # Sum up the points (All Points)\n",
    "        \n",
    "        # Current points = All points - Used points\n",
    "        statement = ['SELECT withdrawal FROM requests where emp_id={} and status={};'.format(ID,1)]\n",
    "        withdrawals = db.execute(statement)[0]\n",
    "        \n",
    "        used_points = []\n",
    "        \n",
    "        # Unpack points\n",
    "        for withdrawal in withdrawals:\n",
    "            used_points.append(withdrawal[0])\n",
    "            \n",
    "        used_points = sum(used_points) # Sum of all approved withdrawals\n",
    "        \n",
    "        if used_points:\n",
    "            points = points - used_points\n",
    "            \n",
    "        # Update employees table.\n",
    "        statement = ['UPDATE employees SET points={} WHERE emp_id={};'.format(points,ID)]\n",
    "        db.execute(statement)\n",
    "            \n",
    "        return points\n",
    "    \n",
    "    def calculator_helper(self,date,ID,months,tenure):\n",
    "        \"\"\"Calculates points per month\"\"\"\n",
    "    \n",
    "        statement = ['SELECT seniority FROM history where start_date=\\'{}\\' and emp_id={};'.format(date,ID)]\n",
    "        seniority = db.execute(statement)[0][0][0]\n",
    "        sen_points = self.seniority_points(seniority)\n",
    "        \n",
    "        points_per_month = sen_points*months\n",
    "        \n",
    "        # Calculate tenure\n",
    "        tenure /= 12\n",
    "        temp = self.points_multiplier(points_per_month,tenure)\n",
    "        \n",
    "        return temp\n",
    "    \n",
    "    def balance_deduction(self,ID,req_id,approved=False):\n",
    "        \"\"\"Deducts the used points, and updates the points balance\"\"\"\n",
    "        \n",
    "        if approved:\n",
    "            statement = ['SELECT withdrawal FROM requests where emp_id={} and req_id={};'.format(ID,req_id)]\n",
    "            deduction = db.execute(statement)[0][0][0]\n",
    "            \n",
    "            statement = ['SELECT points FROM employees WHERE emp_id={};'.format(ID)]\n",
    "            points = db.execute(statement)[0][0][0]\n",
    "            \n",
    "            print(points)\n",
    "            print(deduction)\n",
    "            \n",
    "            new_points = points - deduction\n",
    "            # Update employees table.\n",
    "            statement = ['UPDATE employees SET points={} WHERE emp_id={};'.format(new_points,ID),\n",
    "                        'UPDATE requests SET status=1 WHERE emp_id={} and req_id={};'.format(ID,req_id)]\n",
    "            db.execute(statement)\n",
    "            \n",
    "            # Expense request creation sent to finance"
   ]
  },
  {
   "cell_type": "code",
   "execution_count": 5,
   "metadata": {},
   "outputs": [],
   "source": [
    "# Create tables(run only once)\n",
    "a = ('create table if not exists employees(emp_id INTEGER PRIMARY KEY, seniority TEXT,start_date DATE, points FLOAT DEFAULT 0.0 NOT NULL);') \n",
    "b = ('create table if not exists history(hist_id INTEGER PRIMARY KEY,emp_id INTEGER, start_date DATE,seniority TEXT, FOREIGN KEY(emp_id) REFERENCES employees (emp_id) ON DELETE CASCADE ON UPDATE NO ACTION);')\n",
    "c = ('create table if not exists requests(req_id INTEGER PRIMARY KEY,emp_id INTEGER, withdrawal FLOAT,status INTEGER DEFAULT 0,FOREIGN KEY(emp_id) REFERENCES employees (emp_id) ON DELETE CASCADE ON UPDATE NO ACTION);')\n",
    "\n",
    "statements = [a,b,c]\n",
    "db = Db('Fenix.db',statements)"
   ]
  },
  {
   "cell_type": "code",
   "execution_count": 6,
   "metadata": {},
   "outputs": [],
   "source": [
    "# Reading from a csv file, Populating tables\n",
    "db.from_csv('history','History.csv') \n",
    "db.from_csv('employees','Employee.csv')"
   ]
  },
  {
   "cell_type": "code",
   "execution_count": 7,
   "metadata": {},
   "outputs": [
    {
     "data": {
      "text/plain": [
       "[(1, 'D', '2016/01/02', 0.0),\n",
       " (2, 'C', '2015/12/01', 0.0),\n",
       " (3, 'B', '2017/04/02', 0.0),\n",
       " (4, 'A', '2015/05/27', 0.0),\n",
       " (5, 'A', '2019/03/14', 0.0)]"
      ]
     },
     "execution_count": 7,
     "metadata": {},
     "output_type": "execute_result"
    }
   ],
   "source": [
    "# Reading data from the database\n",
    "statement = ['SELECT * FROM employees;']\n",
    "results = db.execute(statement)[0]\n",
    "results"
   ]
  },
  {
   "cell_type": "code",
   "execution_count": 8,
   "metadata": {
    "scrolled": true
   },
   "outputs": [
    {
     "data": {
      "text/plain": [
       "15.0"
      ]
     },
     "execution_count": 8,
     "metadata": {},
     "output_type": "execute_result"
    }
   ],
   "source": [
    "# Points Accrual\n",
    "acc = Accrual()\n",
    "acc.points_accrual(1) # For Employee 1\n",
    "acc.points_accrual(2) # For Employee 2\n",
    "acc.points_accrual(3) # For Employee 3\n",
    "acc.points_accrual(4) # For Employee 4\n",
    "acc.points_accrual(5) # For Employee 5"
   ]
  },
  {
   "cell_type": "code",
   "execution_count": 9,
   "metadata": {},
   "outputs": [
    {
     "data": {
      "text/plain": [
       "[(1, 'D', '2016/01/02', 815.0),\n",
       " (2, 'C', '2015/12/01', 568.75),\n",
       " (3, 'B', '2017/04/02', 325.0),\n",
       " (4, 'A', '2015/05/27', 893.75),\n",
       " (5, 'A', '2019/03/14', 15.0)]"
      ]
     },
     "execution_count": 9,
     "metadata": {},
     "output_type": "execute_result"
    }
   ],
   "source": [
    "statement = ['SELECT * FROM employees;'] # Points per employee\n",
    "results = db.execute(statement)[0]\n",
    "results"
   ]
  },
  {
   "cell_type": "code",
   "execution_count": 10,
   "metadata": {},
   "outputs": [
    {
     "data": {
      "text/plain": [
       "[]"
      ]
     },
     "execution_count": 10,
     "metadata": {},
     "output_type": "execute_result"
    }
   ],
   "source": [
    "statement = ['SELECT * FROM requests;']\n",
    "results = db.execute(statement)[0]\n",
    "results"
   ]
  },
  {
   "cell_type": "code",
   "execution_count": 11,
   "metadata": {},
   "outputs": [],
   "source": [
    "# Instantiate Enployee\n",
    "employee1 = Employee(1)"
   ]
  },
  {
   "cell_type": "code",
   "execution_count": 12,
   "metadata": {},
   "outputs": [
    {
     "data": {
      "text/plain": [
       "815.0"
      ]
     },
     "execution_count": 12,
     "metadata": {},
     "output_type": "execute_result"
    }
   ],
   "source": [
    "# Checking for Current points\n",
    "employee1.get_attribute(\"points\")"
   ]
  },
  {
   "cell_type": "code",
   "execution_count": 13,
   "metadata": {},
   "outputs": [],
   "source": [
    "# Withdrawal Request\n",
    "req_id = employee1.request(10,True)\n",
    "acc.balance_deduction(2,req_id)"
   ]
  },
  {
   "cell_type": "code",
   "execution_count": 14,
   "metadata": {},
   "outputs": [
    {
     "data": {
      "text/plain": [
       "[[(1, 1, 10.0, 0)]]"
      ]
     },
     "execution_count": 14,
     "metadata": {},
     "output_type": "execute_result"
    }
   ],
   "source": [
    "# Update in requests table\n",
    "statement = ['SELECT * FROM requests;']\n",
    "results = db.execute(statement)\n",
    "results"
   ]
  },
  {
   "cell_type": "code",
   "execution_count": null,
   "metadata": {},
   "outputs": [],
   "source": []
  },
  {
   "cell_type": "code",
   "execution_count": null,
   "metadata": {},
   "outputs": [],
   "source": []
  }
 ],
 "metadata": {
  "kernelspec": {
   "display_name": "Python 3",
   "language": "python",
   "name": "python3"
  },
  "language_info": {
   "codemirror_mode": {
    "name": "ipython",
    "version": 3
   },
   "file_extension": ".py",
   "mimetype": "text/x-python",
   "name": "python",
   "nbconvert_exporter": "python",
   "pygments_lexer": "ipython3",
   "version": "3.7.1"
  }
 },
 "nbformat": 4,
 "nbformat_minor": 2
}
