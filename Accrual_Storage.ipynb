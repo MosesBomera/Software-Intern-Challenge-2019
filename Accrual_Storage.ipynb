{
 "cells": [
  {
   "cell_type": "code",
   "execution_count": 202,
   "metadata": {},
   "outputs": [],
   "source": [
    "# Points Accrual and Storage System\n",
    "# Make code python 2 and 3 compliant\n",
    "from __future__ import print_function\n",
    "\n",
    "import datetime\n",
    "from dateutil import relativedelta\n",
    "import pandas as pd\n",
    "\n",
    "# Make things look pretty\n",
    "from pprint import pprint\n",
    "import sqlite3"
   ]
  },
  {
   "cell_type": "code",
   "execution_count": 203,
   "metadata": {},
   "outputs": [],
   "source": [
    "class Db(object):    \n",
    "    \"\"\"The database class.\"\"\"\n",
    "\n",
    "    def __init__(self, database='fenix.db', statements=[]):\n",
    "        \"\"\"Initialize a new database or connect to an existing one.\"\"\"\n",
    "\n",
    "        self.database = database  #the database filename\n",
    "        self.statement = ''       #holds incomplete statements\n",
    "        \n",
    "        self.connect()\n",
    "        self.execute(statements)\n",
    "        self.close()            \n",
    "\n",
    "    def connect(self):\n",
    "        \"\"\"Connect to the database.\"\"\"\n",
    "\n",
    "        self.connection = sqlite3.connect(self.database)\n",
    "        self.cursor = self.connection.cursor()\n",
    "        self.connected = True\n",
    "        self.statement = ''\n",
    "\n",
    "    def close(self): \n",
    "        \"\"\"Close the database.\"\"\"\n",
    "\n",
    "        self.connection.commit()\n",
    "        self.connection.close()\n",
    "        self.connected = False\n",
    "\n",
    "    def incomplete(self, statement):\n",
    "        \"\"\"Concatenate clauses until a complete statement is made.\"\"\"\n",
    "\n",
    "        self.statement += statement\n",
    "        if self.statement.count(';') > 1:\n",
    "            self.statement = ''\n",
    "            raise ValueError('One statement at a time, please!.')\n",
    "            \n",
    "        return not sqlite3.complete_statement(self.statement)\n",
    "    \n",
    "    def execute(self, statements):\n",
    "        \"\"\"Executes SQL statements. \"\"\"\n",
    "\n",
    "        queries = []\n",
    "        close = False\n",
    "        if not self.connected:                  \n",
    "            self.connect() \n",
    "            close = True\n",
    "        if type(statements) == str:\n",
    "            statements = [statements]\n",
    "        for statement in statements:\n",
    "            if self.incomplete(statement):\n",
    "                continue #the statement is complete\n",
    "            try:\n",
    "                statement = self.statement.strip() #reset the test statement\n",
    "                self.statement = ''\n",
    "                self.cursor.execute(statement) # Execute statement\n",
    "                data = self.cursor.fetchall()\n",
    "                if statement.upper().startswith('SELECT'):\n",
    "                    queries.append(data)\n",
    "\n",
    "            except sqlite3.Error as error:\n",
    "                raise ValueError('An error occurred:', error.args[0])\n",
    "\n",
    "        if close:\n",
    "            self.close()   #Close database if opened here.\n",
    "        \n",
    "        if queries:\n",
    "            return queries\n",
    "        \n",
    "        \n",
    "    def from_csv(self,table,filename):\n",
    "        \"\"\"Imports data from a csv file to a selected table.\"\"\"\n",
    "        \n",
    "        if not self.connected:                  \n",
    "            self.connect() \n",
    "            close = True\n",
    "            \n",
    "        data = pd.read_csv(filename)\n",
    "        data.to_sql(table,self.connection,if_exists='append',index=False)\n",
    "        \n",
    "        if close:\n",
    "            self.close() "
   ]
  },
  {
   "cell_type": "code",
   "execution_count": 204,
   "metadata": {},
   "outputs": [],
   "source": [
    "class Employee(object):\n",
    "    \"\"\"Defines an employee's required attributes.\"\"\"\n",
    "    \n",
    "    def __init__(self, ID):\n",
    "        \"\"\"\n",
    "            Create an instance of an employee.\n",
    "            \n",
    "            Arguments\n",
    "            id - <int> - This is the employee's ID.\n",
    "        \"\"\"\n",
    "        self.id = ID\n",
    "        \n",
    "    def get_id(self):\n",
    "        return self.id\n",
    "    \n",
    "    def get_attribute(self,attribute):\n",
    "        \"\"\"Returns the selected attributed value.\"\"\"\n",
    "                  \n",
    "        statement = ['SELECT {} FROM employees WHERE emp_id={};'.format(attribute, self.get_id())]\n",
    "        attribute = db.execute(statement)[0][0][0] # What?!\n",
    "        return attribute\n",
    "    \n",
    "    \n",
    "    def request(self,amount,signoff=False):\n",
    "        \"\"\"Allows an employee to request points withdrawal.\"\"\"\n",
    "        \n",
    "        # Check points balance\n",
    "        statement = ['SELECT points FROM employees WHERE emp_id={};'.format(self.get_id())]\n",
    "        points_balance = db.execute(statement)[0][0][0]\n",
    "        \n",
    "        if (points_balance > amount):\n",
    "            if signoff:\n",
    "                # Send expenses request to finance\n",
    "                statement = ['INSERT INTO requests (emp_id,withdrawal) VALUES ({},{});'.format(self.get_id(),amount)]\n",
    "                db.execute(statement)\n",
    "                req_id = db.execute(['SELECT req_id FROM requests WHERE emp_id={} and withdrawal={} and status=0;'.format(self.get_id(),amount)])\n",
    "                return req_id[0][0][0]\n",
    "            else:\n",
    "                print('Manager sign off required.')\n",
    "        else:\n",
    "            raise ValueError('Insufficient Points.')"
   ]
  },
  {
   "cell_type": "code",
   "execution_count": 209,
   "metadata": {},
   "outputs": [],
   "source": [
    "class Accrual(object):\n",
    "    \"\"\"This class performs the points accrual and tracking.\"\"\"\n",
    "    \n",
    "    def __init__(self):\n",
    "        self.today = f\"{datetime.date.today():%Y/%m/%d}\"\n",
    "        \n",
    "        \n",
    "    def points_multiplier(self,points,tenure):\n",
    "        \"\"\"Multiples the points as per the tenure\"\"\"\n",
    "        \n",
    "        #points = 0;\n",
    "        if (tenure > 0):\n",
    "            if   (0.0 < tenure < 2.0):\n",
    "                points *= 1.0\n",
    "            elif (2.0 <= tenure < 4.0):\n",
    "                points *= 1.25\n",
    "            else:\n",
    "                points *= 1.5\n",
    "        return points\n",
    "            \n",
    "    def seniority_points(self, seniority):\n",
    "        \"\"\"Returns the number of points per month given the seniority.\"\"\"\n",
    "        \n",
    "        points =  None\n",
    "        \n",
    "        if seniority   == 'A':\n",
    "            points=5\n",
    "        elif seniority == 'B':\n",
    "            points=10\n",
    "        elif seniority == 'C':\n",
    "            points=15\n",
    "        elif seniority == 'D':\n",
    "            points=20\n",
    "        elif seniority == 'E':\n",
    "            points=25\n",
    "        else:\n",
    "            points = 0\n",
    "            \n",
    "        return points\n",
    "    \n",
    "    def time_difference(self,start_date,end_date):\n",
    "        \"\"\"\n",
    "            Returns the number of months\n",
    "            \n",
    "            Arguments\n",
    "            start_date - <string> - The date of reference at the start of the calculation period.\n",
    "            end_date - <string> - The date of reference at the end of the calculation period\n",
    "        \"\"\"\n",
    "        \n",
    "        start_date = datetime.datetime.strptime(str(start_date), '%Y/%m/%d')\n",
    "        end_date = datetime.datetime.strptime(str(end_date), '%Y/%m/%d')\n",
    "        months = (end_date.year - start_date.year) * 12 + (end_date.month - start_date.month)\n",
    "        return months\n",
    "        \n",
    "    def points_accrual(self,ID):\n",
    "        \"\"\"\n",
    "            Calculates the number of points for a given employee as per today.\n",
    "            \n",
    "            Arguments\n",
    "            id - <int> - The employee id\n",
    "        \"\"\"\n",
    "        \n",
    "        statement = ['SELECT start_date FROM history where emp_id={};'.format(ID)]\n",
    "        results = db.execute(statement)[0]\n",
    "        \n",
    "        dates = []      # Unpack dates.\n",
    "        for date in results:\n",
    "            dates.append(date[0])\n",
    "            \n",
    "        dates.sort(key=lambda date: datetime.datetime.strptime(date,'%Y/%m/%d'))\n",
    "        \n",
    "        n = 0;\n",
    "        points = [];\n",
    "        \n",
    "        while(n < (len(dates)-1)):\n",
    "            \n",
    "            months = self.time_difference(dates[n],dates[n+1])\n",
    "            temp = self.calculator_helper(dates[n],ID, months)\n",
    "            points.append(temp)\n",
    "            n = n+1\n",
    "            \n",
    "        # Points up to today.\n",
    "        months = self.time_difference(dates[-1],self.today)\n",
    "        temp = self.calculator_helper(dates[-1],ID,months)\n",
    "        points.append(temp)\n",
    "        \n",
    "        points = sum(points) # Sum up the points (All Points)\n",
    "        \n",
    "        # Current points = All points - Used points\n",
    "        statement = ['SELECT withdrawal FROM requests where emp_id={} and status={};'.format(ID,1)]\n",
    "        used_points = db.execute(statement)[0]\n",
    "        if used_points:\n",
    "            points = points - used_points\n",
    "            \n",
    "        # Update employees table.\n",
    "        statement = ['UPDATE employees SET points={} WHERE emp_id={};'.format(points,ID)]\n",
    "        db.execute(statement)\n",
    "            \n",
    "        return points\n",
    "    \n",
    "    def calculator_helper(self,date,ID,months):\n",
    "        \"\"\"Calculates points per month\"\"\"\n",
    "    \n",
    "        statement = ['SELECT seniority FROM history where start_date=\\'{}\\' and emp_id={};'.format(date,ID)]\n",
    "        seniority = db.execute(statement)[0][0][0]\n",
    "        sen_points = self.seniority_points(seniority)\n",
    "        \n",
    "        points_per_month = sen_points*months\n",
    "        \n",
    "        # Calculate tenure\n",
    "        tenure = months/12\n",
    "        temp = self.points_multiplier(points_per_month,tenure)\n",
    "        \n",
    "        return temp\n",
    "    \n",
    "    def balance_deduction(self,ID,req_id,approved=False):\n",
    "        \"\"\"Deducts the used points, and updates the points balance\"\"\"\n",
    "        \n",
    "        if approved:\n",
    "            statement = ['SELECT withdrawal FROM requests where emp_id={} and req_id={};'.format(ID,req_id)]\n",
    "            deduction = db.execute(statement)[0][0][0]\n",
    "            \n",
    "            statement = ['SELECT points FROM employees WHERE emp_id={};'.format(ID)]\n",
    "            points = db.execute(statement)[0][0][0]\n",
    "            \n",
    "            print(points)\n",
    "            print(deduction)\n",
    "            \n",
    "            new_points = points - deduction\n",
    "            # Update employees table.\n",
    "            statement = ['UPDATE employees SET points={} WHERE emp_id={};'.format(new_points,ID),\n",
    "                        'UPDATE requests SET status=1 WHERE emp_id={} and req_id={};'.format(ID,req_id)]\n",
    "            db.execute(statement)\n",
    "            \n",
    "            # Expense request creation sent to finance"
   ]
  },
  {
   "cell_type": "code",
   "execution_count": 210,
   "metadata": {},
   "outputs": [],
   "source": [
    "# Create tables(run this only once)\n",
    "a = ('create table if not exists employees(emp_id INTEGER PRIMARY KEY, seniority TEXT,start_date DATE, points FLOAT DEFAULT 0.0 NOT NULL);') \n",
    "b = ('create table if not exists history(hist_id INTEGER PRIMARY KEY,emp_id INTEGER, start_date DATE,seniority TEXT, FOREIGN KEY(emp_id) REFERENCES employees (emp_id) ON DELETE CASCADE ON UPDATE NO ACTION);')\n",
    "c = ('create table if not exists requests(req_id INTEGER PRIMARY KEY,emp_id INTEGER, withdrawal FLOAT,status INTEGER DEFAULT 0,FOREIGN KEY(emp_id) REFERENCES employees (emp_id) ON DELETE CASCADE ON UPDATE NO ACTION);')\n",
    "\n",
    "statements = [a,b,c]\n",
    "db = Db('Fenix.db',statements)"
   ]
  },
  {
   "cell_type": "code",
   "execution_count": 211,
   "metadata": {},
   "outputs": [],
   "source": [
    "db = Db('Fenix.db')"
   ]
  },
  {
   "cell_type": "code",
   "execution_count": 212,
   "metadata": {},
   "outputs": [],
   "source": [
    "db.from_csv('history','History.csv') # Reading from a csv file"
   ]
  },
  {
   "cell_type": "code",
   "execution_count": 213,
   "metadata": {},
   "outputs": [],
   "source": [
    "db.from_csv('employees','Employee.csv')"
   ]
  },
  {
   "cell_type": "code",
   "execution_count": 214,
   "metadata": {},
   "outputs": [
    {
     "data": {
      "text/plain": [
       "[(1, 'D', '2016/01/02', 0.0),\n",
       " (2, 'C', '2015/12/01', 0.0),\n",
       " (3, 'B', '2017/04/02', 0.0),\n",
       " (4, 'A', '2015/05/27', 0.0),\n",
       " (5, 'A', '2019/03/14', 0.0)]"
      ]
     },
     "execution_count": 214,
     "metadata": {},
     "output_type": "execute_result"
    }
   ],
   "source": [
    "statement = ['SELECT * FROM employees;']\n",
    "results = db.execute(statement)[0]\n",
    "results"
   ]
  },
  {
   "cell_type": "code",
   "execution_count": 233,
   "metadata": {},
   "outputs": [
    {
     "data": {
      "text/plain": [
       "[]"
      ]
     },
     "execution_count": 233,
     "metadata": {},
     "output_type": "execute_result"
    }
   ],
   "source": [
    "statement = ['SELECT withdrawal FROM requests where emp_id=1 and status=1;']\n",
    "results = db.execute(statement)[0]\n",
    "results "
   ]
  },
  {
   "cell_type": "code",
   "execution_count": 215,
   "metadata": {},
   "outputs": [],
   "source": [
    "acc = Accrual()"
   ]
  },
  {
   "cell_type": "code",
   "execution_count": 171,
   "metadata": {},
   "outputs": [],
   "source": [
    "emp= Employee(2)"
   ]
  },
  {
   "cell_type": "code",
   "execution_count": 236,
   "metadata": {},
   "outputs": [
    {
     "data": {
      "text/plain": [
       "2"
      ]
     },
     "execution_count": 236,
     "metadata": {},
     "output_type": "execute_result"
    }
   ],
   "source": [
    "# Allow an employee to privately query their own points balance (allow for access controlled balance requests)\n",
    "result = emp.get_id()\n",
    "result"
   ]
  },
  {
   "cell_type": "code",
   "execution_count": 237,
   "metadata": {},
   "outputs": [
    {
     "data": {
      "text/plain": [
       "15.0"
      ]
     },
     "execution_count": 237,
     "metadata": {},
     "output_type": "execute_result"
    }
   ],
   "source": [
    "acc.points_accrual(5)"
   ]
  },
  {
   "cell_type": "code",
   "execution_count": 238,
   "metadata": {},
   "outputs": [
    {
     "data": {
      "text/plain": [
       "[[(1, 'D', '2016/01/02', 750.0),\n",
       "  (2, 'C', '2015/12/01', 532.5),\n",
       "  (3, 'B', '2017/04/02', 325.0),\n",
       "  (4, 'A', '2015/05/27', 775.0),\n",
       "  (5, 'A', '2019/03/14', 15.0)]]"
      ]
     },
     "execution_count": 238,
     "metadata": {},
     "output_type": "execute_result"
    }
   ],
   "source": [
    "statement = ['SELECT * FROM employees;']\n",
    "results = db.execute(statement)\n",
    "results"
   ]
  },
  {
   "cell_type": "code",
   "execution_count": 239,
   "metadata": {},
   "outputs": [],
   "source": [
    "emp2 = Employee(2)"
   ]
  },
  {
   "cell_type": "code",
   "execution_count": 240,
   "metadata": {},
   "outputs": [
    {
     "data": {
      "text/plain": [
       "532.5"
      ]
     },
     "execution_count": 240,
     "metadata": {},
     "output_type": "execute_result"
    }
   ],
   "source": [
    "emp2.get_attribute('points')"
   ]
  },
  {
   "cell_type": "code",
   "execution_count": 173,
   "metadata": {},
   "outputs": [
    {
     "data": {
      "text/plain": [
       "[[(1, 2, 10000.0, 0), (2, 2, 10000.0, 0), (3, 2, 10000.0, 0)]]"
      ]
     },
     "execution_count": 173,
     "metadata": {},
     "output_type": "execute_result"
    }
   ],
   "source": [
    "statement = ['SELECT * FROM requests;']\n",
    "results = db.execute(statement)\n",
    "results"
   ]
  },
  {
   "cell_type": "code",
   "execution_count": 225,
   "metadata": {},
   "outputs": [
    {
     "ename": "ValueError",
     "evalue": "Insufficient Points.",
     "output_type": "error",
     "traceback": [
      "\u001b[0;31m---------------------------------------------------------------------------\u001b[0m",
      "\u001b[0;31mValueError\u001b[0m                                Traceback (most recent call last)",
      "\u001b[0;32m<ipython-input-225-db05bb412e72>\u001b[0m in \u001b[0;36m<module>\u001b[0;34m\u001b[0m\n\u001b[0;32m----> 1\u001b[0;31m \u001b[0memp2\u001b[0m\u001b[0;34m.\u001b[0m\u001b[0mrequest\u001b[0m\u001b[0;34m(\u001b[0m\u001b[0;36m10000\u001b[0m\u001b[0;34m,\u001b[0m\u001b[0;32mTrue\u001b[0m\u001b[0;34m)\u001b[0m\u001b[0;34m\u001b[0m\u001b[0;34m\u001b[0m\u001b[0m\n\u001b[0m",
      "\u001b[0;32m<ipython-input-204-13a9ee81684c>\u001b[0m in \u001b[0;36mrequest\u001b[0;34m(self, amount, signoff)\u001b[0m\n\u001b[1;32m     39\u001b[0m                 \u001b[0mprint\u001b[0m\u001b[0;34m(\u001b[0m\u001b[0;34m'Manager sign off required.'\u001b[0m\u001b[0;34m)\u001b[0m\u001b[0;34m\u001b[0m\u001b[0;34m\u001b[0m\u001b[0m\n\u001b[1;32m     40\u001b[0m         \u001b[0;32melse\u001b[0m\u001b[0;34m:\u001b[0m\u001b[0;34m\u001b[0m\u001b[0;34m\u001b[0m\u001b[0m\n\u001b[0;32m---> 41\u001b[0;31m             \u001b[0;32mraise\u001b[0m \u001b[0mValueError\u001b[0m\u001b[0;34m(\u001b[0m\u001b[0;34m'Insufficient Points.'\u001b[0m\u001b[0;34m)\u001b[0m\u001b[0;34m\u001b[0m\u001b[0;34m\u001b[0m\u001b[0m\n\u001b[0m",
      "\u001b[0;31mValueError\u001b[0m: Insufficient Points."
     ]
    }
   ],
   "source": [
    "emp2.request(10000,True) # Throws a ValueError if the points request is more than points an employee has."
   ]
  },
  {
   "cell_type": "code",
   "execution_count": 241,
   "metadata": {},
   "outputs": [
    {
     "data": {
      "text/plain": [
       "[[(1, 'D', '2016/01/02', 750.0),\n",
       "  (2, 'C', '2015/12/01', 532.5),\n",
       "  (3, 'B', '2017/04/02', 325.0),\n",
       "  (4, 'A', '2015/05/27', 775.0),\n",
       "  (5, 'A', '2019/03/14', 15.0)]]"
      ]
     },
     "execution_count": 241,
     "metadata": {},
     "output_type": "execute_result"
    }
   ],
   "source": [
    "statement = ['SELECT * FROM employees;']\n",
    "results = db.execute(statement)\n",
    "results"
   ]
  },
  {
   "cell_type": "code",
   "execution_count": 226,
   "metadata": {},
   "outputs": [],
   "source": [
    "req_id = emp2.request(10,True)"
   ]
  },
  {
   "cell_type": "code",
   "execution_count": 227,
   "metadata": {},
   "outputs": [
    {
     "data": {
      "text/plain": [
       "1"
      ]
     },
     "execution_count": 227,
     "metadata": {},
     "output_type": "execute_result"
    }
   ],
   "source": [
    "req_id"
   ]
  },
  {
   "cell_type": "code",
   "execution_count": 228,
   "metadata": {},
   "outputs": [],
   "source": [
    "acc.balance_deduction(2,req_id)"
   ]
  },
  {
   "cell_type": "code",
   "execution_count": 232,
   "metadata": {},
   "outputs": [
    {
     "data": {
      "text/plain": [
       "[[(1, 2, 10.0, 1)]]"
      ]
     },
     "execution_count": 232,
     "metadata": {},
     "output_type": "execute_result"
    }
   ],
   "source": [
    "statement = ['SELECT * FROM requests;']\n",
    "results = db.execute(statement)\n",
    "results"
   ]
  },
  {
   "cell_type": "code",
   "execution_count": 229,
   "metadata": {},
   "outputs": [
    {
     "name": "stdout",
     "output_type": "stream",
     "text": [
      "542.5\n",
      "10.0\n"
     ]
    }
   ],
   "source": [
    "acc.balance_deduction(2,req_id,True)"
   ]
  },
  {
   "cell_type": "code",
   "execution_count": null,
   "metadata": {},
   "outputs": [],
   "source": []
  }
 ],
 "metadata": {
  "kernelspec": {
   "display_name": "Python 3",
   "language": "python",
   "name": "python3"
  },
  "language_info": {
   "codemirror_mode": {
    "name": "ipython",
    "version": 3
   },
   "file_extension": ".py",
   "mimetype": "text/x-python",
   "name": "python",
   "nbconvert_exporter": "python",
   "pygments_lexer": "ipython3",
   "version": "3.7.1"
  }
 },
 "nbformat": 4,
 "nbformat_minor": 2
}
